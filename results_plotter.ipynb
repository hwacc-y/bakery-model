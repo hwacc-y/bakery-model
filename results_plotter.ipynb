{
 "cells": [
  {
   "cell_type": "code",
   "execution_count": 1,
   "metadata": {},
   "outputs": [],
   "source": [
    "import sqlite3\n",
    "import matplotlib.pyplot as plt\n",
    "import numpy as np\n",
    "import glob\n",
    "import os\n",
    "import pandas as pd"
   ]
  },
  {
   "cell_type": "code",
   "execution_count": 2,
   "metadata": {},
   "outputs": [],
   "source": [
    "def get_periods(db_conn):\n",
    "    \"\"\"\n",
    "    This function returns a list of simulated\n",
    "    years.\n",
    "    \"\"\"\n",
    "\n",
    "    command = \"SELECT * FROM time_periods WHERE flag is 'f'\"\n",
    "\n",
    "    cur = db_conn.cursor()\n",
    "    cur.execute(command)\n",
    "    periods = [y[0] for y in cur.fetchall()]\n",
    "\n",
    "    return periods[:-1]\n",
    "def get_regional_techs(db_conn, outcomm, region):\n",
    "    \"\"\"\n",
    "    This function returns a list of technologies\n",
    "    in a given sector.\n",
    "    \"\"\"\n",
    "\n",
    "    cur = db_conn.cursor()\n",
    "\n",
    "    if type(outcomm) == list:\n",
    "        command = (f\"SELECT tech FROM Output_VFlow_Out WHERE regions LIKE '%{region}' \"\n",
    "                   f\"AND (output_comm IS '{outcomm[0]}' OR output_comm IS '{outcomm[1]}')\" )\n",
    "    else:\n",
    "        command = (f\"SELECT tech FROM Output_VFlow_Out WHERE regions LIKE '%{region}' \"\n",
    "                   f\"AND output_comm IS '{outcomm}' \")\n",
    "\n",
    "\n",
    "    cur.execute(command)\n",
    "\n",
    "    regional_techs = np.unique([t[0] for t in cur.fetchall()])\n",
    "\n",
    "    return regional_techs\n",
    "def get_annual_capacity(db_conn, region, outcomm, scenario=None):\n",
    "    \"\"\"\n",
    "    Retrieves the annual capacity of each technology.\n",
    "    \"\"\"\n",
    "\n",
    "    periods = get_periods(db_conn)\n",
    "    all_techs = get_regional_techs(db_conn, outcomm, region)\n",
    "\n",
    "    cur = db_conn.cursor()\n",
    "\n",
    "    cap_dict = {}\n",
    "    for tech in all_techs:\n",
    "        if scenario == None:\n",
    "            command = (f\"SELECT t_periods, capacity \"\n",
    "                       f\"FROM Output_CapacityByPeriodAndTech \"\n",
    "                       f\"WHERE tech IS '{tech}' \"\n",
    "                       f\"AND regions LIKE '%{region}' \"\n",
    "                       f\"ORDER BY Output_CapacityByPeriodAndTech.t_periods\")\n",
    "        else:\n",
    "            command = (f\"SELECT t_periods, capacity \"\n",
    "                       f\"FROM Output_CapacityByPeriodAndTech \"\n",
    "                       f\"WHERE tech IS '{tech}' \"\n",
    "                       f\"AND regions LIKE '%{region}' \"\n",
    "                       f\"AND scenario LIKE '%{scenario}' \"\n",
    "                       f\"ORDER BY Output_CapacityByPeriodAndTech.t_periods\")\n",
    "        cur.execute(command)\n",
    "        cap_tech = cur.fetchall()\n",
    "\n",
    "        diff = np.diff(periods).astype('int')[0]\n",
    "        first_year = int(min(periods))\n",
    "\n",
    "        caps = np.zeros(len(periods))\n",
    "        for i, tup in enumerate(cap_tech):\n",
    "            year = tup[0]\n",
    "            cap = tup[1]\n",
    "            j = int((year-first_year)/diff)\n",
    "            caps[j] = cap\n",
    "        cap_dict[tech] = caps\n",
    "    cap_dict['year'] = periods\n",
    "\n",
    "    cap_df = pd.DataFrame(cap_dict)\n",
    "    cap_df.set_index('year', inplace=True)\n",
    "    return cap_df\n",
    "def get_annual_generation(db_conn, region, outcomm, scenario=None):\n",
    "    \"\"\"\n",
    "    Retrieves the annual generation of each technology.\n",
    "    \"\"\"\n",
    "\n",
    "    periods = get_periods(db_conn)\n",
    "    all_techs = get_regional_techs(db_conn, outcomm, region)\n",
    "\n",
    "    cur = db_conn.cursor()\n",
    "\n",
    "    cap_dict = {}\n",
    "    for tech in all_techs:\n",
    "        if scenario == None:\n",
    "            command = (f\"SELECT t_periods, SUM(vflow_out), tech \"\n",
    "                           f\"FROM Output_VFlow_Out \"\n",
    "                           f\"WHERE tech IS '{tech}' \"\n",
    "                           f\"AND regions LIKE '%{region}' \"\n",
    "                           f\"GROUP BY Output_VFlow_Out.t_periods\")\n",
    "        else:\n",
    "            command = (f\"SELECT t_periods, SUM(vflow_out), tech \"\n",
    "                           f\"FROM Output_VFlow_Out \"\n",
    "                           f\"WHERE tech IS '{tech}' \"\n",
    "                           f\"AND regions LIKE '%{region}' \"\n",
    "                           f\"AND scenario LIKE '%{scenario}' \"\n",
    "                           f\"GROUP BY Output_VFlow_Out.t_periods\")\n",
    "        cur.execute(command)\n",
    "        cap_tech = cur.fetchall()\n",
    "\n",
    "        diff = np.diff(periods).astype('int')[0]\n",
    "        first_year = int(min(periods))\n",
    "\n",
    "        caps = np.zeros(len(periods))\n",
    "        for i, tup in enumerate(cap_tech):\n",
    "            year = tup[0]\n",
    "            cap = tup[1]\n",
    "            j = int((year-first_year)/diff)\n",
    "            caps[j] = cap\n",
    "        cap_dict[tech] = caps\n",
    "    cap_dict['year'] = periods\n",
    "\n",
    "    cap_df = pd.DataFrame(cap_dict)\n",
    "    cap_df.set_index('year', inplace=True)\n",
    "    return cap_df"
   ]
  },
  {
   "cell_type": "code",
   "execution_count": 3,
   "metadata": {},
   "outputs": [],
   "source": [
    "path = 'pygen_test/bakery_test_kitchen_02.sqlite'\n",
    "conn = sqlite3.connect(path)\n",
    "cursor = conn.cursor()"
   ]
  },
  {
   "cell_type": "code",
   "execution_count": 4,
   "metadata": {},
   "outputs": [
    {
     "name": "stdout",
     "output_type": "stream",
     "text": [
      "Objective Function Value = $4005.176\n"
     ]
    }
   ],
   "source": [
    "command = \"SELECT total_system_cost FROM Output_Objective\"\n",
    "cursor.execute(command)\n",
    "res = cursor.fetchall()\n",
    "\n",
    "print(f'Objective Function Value = ${round(res[0][0],3)}')"
   ]
  },
  {
   "cell_type": "code",
   "execution_count": 5,
   "metadata": {},
   "outputs": [],
   "source": [
    "df = get_annual_capacity(conn, 'MyBakery', 'COOKIES', scenario='test_kitchen')\n",
    "gdf= get_annual_generation(conn, 'MyBakery', 'DOUGH', scenario='test_kitchen')"
   ]
  },
  {
   "cell_type": "code",
   "execution_count": 6,
   "metadata": {},
   "outputs": [
    {
     "name": "stdout",
     "output_type": "stream",
     "text": [
      "      MIXER_ELC\n",
      "year           \n",
      "2020      100.0\n",
      "2021      100.0\n",
      "            STORE\n",
      "year             \n",
      "2020  4799.999997\n",
      "2021  4799.999997\n",
      "      IMP_EGG\n",
      "year         \n",
      "2020   25.075\n",
      "2021   25.075\n",
      "         IMP_FLR\n",
      "year            \n",
      "2020  200.175001\n",
      "2021  200.175001\n",
      "      IMP_SGR\n",
      "year         \n",
      "2020   99.875\n",
      "2021   99.875\n",
      "      IMP_BTR\n",
      "year         \n",
      "2020   99.875\n",
      "2021   99.875\n",
      "       CONV_OVEN  REFRIGERATOR\n",
      "year                          \n",
      "2020  4800.00002   3508.782461\n",
      "2021  4800.00002   3508.782461\n"
     ]
    }
   ],
   "source": [
    "list_items = ['DOUGH', 'COOKIES_DEM', 'EGG', 'FLOUR', 'SUGAR', 'BUTTER', 'COOKIES']\n",
    "for item in list_items:\n",
    "    print(get_annual_generation(conn, 'MyBakery', item, scenario='test_kitchen'))"
   ]
  },
  {
   "cell_type": "code",
   "execution_count": 7,
   "metadata": {},
   "outputs": [
    {
     "data": {
      "text/plain": [
       "<AxesSubplot:xlabel='year'>"
      ]
     },
     "execution_count": 7,
     "metadata": {},
     "output_type": "execute_result"
    },
    {
     "data": {
      "image/png": "[encoded data removed]",
      "text/plain": [
       "<Figure size 432x288 with 1 Axes>"
      ]
     },
     "metadata": {},
     "output_type": "display_data"
    }
   ],
   "source": [
    "fig, ax = plt.subplots(figsize=(6,4), facecolor='w', edgecolor='k')\n",
    "df.plot.bar(ax=ax)"
   ]
  },
  {
   "cell_type": "code",
   "execution_count": null,
   "metadata": {},
   "outputs": [],
   "source": []
  }
 ],
 "metadata": {
  "kernelspec": {
   "display_name": "Python 3",
   "language": "python",
   "name": "python3"
  },
  "language_info": {
   "codemirror_mode": {
    "name": "ipython",
    "version": 3
   },
   "file_extension": ".py",
   "mimetype": "text/x-python",
   "name": "python",
   "nbconvert_exporter": "python",
   "pygments_lexer": "ipython3",
   "version": "3.8.3"
  }
 },
 "nbformat": 4,
 "nbformat_minor": 4
}
